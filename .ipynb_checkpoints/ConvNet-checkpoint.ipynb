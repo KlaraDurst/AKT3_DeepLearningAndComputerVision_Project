{
 "cells": [
  {
   "cell_type": "markdown",
   "metadata": {},
   "source": [
    "In diesem Projekt wird ein Image Classification Network erstellt, um Wüstenlandschaften von Waldlandschaften zu unterscheiden."
   ]
  },
  {
   "cell_type": "code",
   "execution_count": 1,
   "metadata": {},
   "outputs": [],
   "source": [
    "import warnings\n",
    "warnings.filterwarnings('ignore')\n",
    "import tensorflow as tf\n",
    "from tensorflow.keras.models import Sequential\n",
    "from tensorflow.keras.layers import Dense, Dropout, Activation, Flatten, Conv2D, MaxPooling2D\n",
    "from tensorflow.keras.callbacks import TensorBoard\n",
    "import pickle\n",
    "import time\n",
    "%matplotlib inline\n",
    "import matplotlib.pyplot as plt\n",
    "from sklearn.metrics import confusion_matrix, roc_curve,roc_auc_score\n",
    "\n",
    "#NAME = \"desert-vs-forest-cnn-64x2-{}\".format(int(time.time()))\n",
    "#tensorboard = TensorBoard(log_dir='logs\\\\{}'.format(NAME), histogram_freq=1)\n",
    "\n",
    "gpu_options = tf.GPUOptions(per_process_gpu_memory_fraction=0.333)\n",
    "sess = tf.Session(config=tf.ConfigProto(gpu_options=gpu_options))"
   ]
  },
  {
   "cell_type": "markdown",
   "metadata": {},
   "source": [
    "Die Trainings- und Testdaten wurden in LoadAndStoreImageData.ipynb aufbereitet und in pickle-Dateien gespeichert. Diese werden wieder geladen. Input Data wird mit X bezeichnet, Target Data wird mit y bezeichnet."
   ]
  },
  {
   "cell_type": "code",
   "execution_count": 2,
   "metadata": {},
   "outputs": [],
   "source": [
    "training_X = pickle.load(open(\"NatureX_Training.pickle\", \"rb\"));\n",
    "training_y = pickle.load(open(\"Naturey_Training.pickle\", \"rb\"));\n",
    "\n",
    "training_X = training_X/255.0\n",
    "\n",
    "test_X = pickle.load(open(\"NatureX_Test.pickle\", \"rb\"));\n",
    "test_y = pickle.load(open(\"Naturey_Test.pickle\", \"rb\"));\n",
    "\n",
    "test_X = test_X/255.0"
   ]
  },
  {
   "cell_type": "markdown",
   "metadata": {},
   "source": [
    "Das CNN wird aufgebaut."
   ]
  },
  {
   "cell_type": "code",
   "execution_count": 3,
   "metadata": {
    "scrolled": true
   },
   "outputs": [
    {
     "name": "stdout",
     "output_type": "stream",
     "text": [
      "WARNING:tensorflow:From c:\\users\\klara\\my_venv\\lib\\site-packages\\tensorflow\\python\\ops\\init_ops.py:1251: calling VarianceScaling.__init__ (from tensorflow.python.ops.init_ops) with dtype is deprecated and will be removed in a future version.\n",
      "Instructions for updating:\n",
      "Call initializer instance with the dtype argument instead of passing it to the constructor\n",
      "WARNING:tensorflow:From c:\\users\\klara\\my_venv\\lib\\site-packages\\tensorflow\\python\\ops\\nn_impl.py:180: add_dispatch_support.<locals>.wrapper (from tensorflow.python.ops.array_ops) is deprecated and will be removed in a future version.\n",
      "Instructions for updating:\n",
      "Use tf.where in 2.0, which has the same broadcast rule as np.where\n",
      "Model: \"sequential\"\n",
      "_________________________________________________________________\n",
      "Layer (type)                 Output Shape              Param #   \n",
      "=================================================================\n",
      "conv2d (Conv2D)              (None, 98, 98, 64)        640       \n",
      "_________________________________________________________________\n",
      "activation (Activation)      (None, 98, 98, 64)        0         \n",
      "_________________________________________________________________\n",
      "max_pooling2d (MaxPooling2D) (None, 49, 49, 64)        0         \n",
      "_________________________________________________________________\n",
      "conv2d_1 (Conv2D)            (None, 47, 47, 64)        36928     \n",
      "_________________________________________________________________\n",
      "activation_1 (Activation)    (None, 47, 47, 64)        0         \n",
      "_________________________________________________________________\n",
      "max_pooling2d_1 (MaxPooling2 (None, 23, 23, 64)        0         \n",
      "_________________________________________________________________\n",
      "flatten (Flatten)            (None, 33856)             0         \n",
      "_________________________________________________________________\n",
      "dense (Dense)                (None, 64)                2166848   \n",
      "_________________________________________________________________\n",
      "activation_2 (Activation)    (None, 64)                0         \n",
      "_________________________________________________________________\n",
      "dense_1 (Dense)              (None, 1)                 65        \n",
      "_________________________________________________________________\n",
      "activation_3 (Activation)    (None, 1)                 0         \n",
      "=================================================================\n",
      "Total params: 2,204,481\n",
      "Trainable params: 2,204,481\n",
      "Non-trainable params: 0\n",
      "_________________________________________________________________\n"
     ]
    }
   ],
   "source": [
    "model = Sequential()\n",
    "model.add(Conv2D(64, (3,3), input_shape = training_X.shape[1:]))\n",
    "model.add(Activation(\"relu\"))\n",
    "model.add(MaxPooling2D(pool_size=(2,2)))\n",
    "\n",
    "model.add(Conv2D(64, (3,3)))\n",
    "model.add(Activation(\"relu\"))\n",
    "model.add(MaxPooling2D(pool_size=(2,2)))\n",
    "\n",
    "model.add(Flatten()) # converts the 3D feature maps to 1D feature vectors\n",
    "\n",
    "model.add(Dense(64))\n",
    "model.add(Activation(\"relu\"))\n",
    "\n",
    "model.add(Dense(1))\n",
    "model.add(Activation('sigmoid'))\n",
    "\n",
    "model.compile(loss=\"binary_crossentropy\",\n",
    "             optimizer=\"adam\",\n",
    "             metrics=['accuracy'])\n",
    "\n",
    "model.summary()\n",
    "\n",
    "#%load_ext tensorboard\n",
    "#%tensorboard --logdir=logs\\\\ --host localhost --port 6006"
   ]
  },
  {
   "cell_type": "markdown",
   "metadata": {},
   "source": [
    "Das CNN wird mit den Trainingsdaten trainiert. Trainings und Validation Loss über die einzelnen Iterationen hinweg werden ausgegeben."
   ]
  },
  {
   "cell_type": "code",
   "execution_count": 4,
   "metadata": {},
   "outputs": [
    {
     "name": "stdout",
     "output_type": "stream",
     "text": [
      "Train on 5040 samples, validate on 1260 samples\n",
      "Epoch 1/10\n",
      "5040/5040 [==============================] - 78s 16ms/sample - loss: 0.2580 - acc: 0.8950 - val_loss: 0.3598 - val_acc: 0.8500\n",
      "Epoch 2/10\n",
      "5040/5040 [==============================] - 78s 15ms/sample - loss: 0.1882 - acc: 0.9274 - val_loss: 0.1719 - val_acc: 0.9373\n",
      "Epoch 3/10\n",
      "5040/5040 [==============================] - 75s 15ms/sample - loss: 0.1506 - acc: 0.9417 - val_loss: 0.1385 - val_acc: 0.9452\n",
      "Epoch 4/10\n",
      "5040/5040 [==============================] - 75s 15ms/sample - loss: 0.1154 - acc: 0.9599 - val_loss: 0.1385 - val_acc: 0.9476\n",
      "Epoch 5/10\n",
      "5040/5040 [==============================] - 81s 16ms/sample - loss: 0.1073 - acc: 0.9641 - val_loss: 0.1410 - val_acc: 0.9444\n",
      "Epoch 6/10\n",
      "5040/5040 [==============================] - 78s 15ms/sample - loss: 0.0771 - acc: 0.9756 - val_loss: 0.1344 - val_acc: 0.9484\n",
      "Epoch 7/10\n",
      "5040/5040 [==============================] - 80s 16ms/sample - loss: 0.0623 - acc: 0.9768 - val_loss: 0.1657 - val_acc: 0.9468\n",
      "Epoch 8/10\n",
      "5040/5040 [==============================] - 78s 15ms/sample - loss: 0.0464 - acc: 0.9851 - val_loss: 0.1111 - val_acc: 0.9643\n",
      "Epoch 9/10\n",
      "5040/5040 [==============================] - 134s 26ms/sample - loss: 0.0334 - acc: 0.9909 - val_loss: 0.1152 - val_acc: 0.9683\n",
      "Epoch 10/10\n",
      "5040/5040 [==============================] - 85s 17ms/sample - loss: 0.0201 - acc: 0.9938 - val_loss: 0.1354 - val_acc: 0.9643\n"
     ]
    },
    {
     "data": {
      "image/png": "[encoded data removed]",
      "text/plain": [
       "<Figure size 432x288 with 1 Axes>"
      ]
     },
     "metadata": {
      "needs_background": "light"
     },
     "output_type": "display_data"
    }
   ],
   "source": [
    "history = model.fit(training_X, training_y, batch_size=32, epochs=10, validation_split=0.2) #, callbacks=[tensorboard])\n",
    "\n",
    "training_loss = history.history['loss']\n",
    "validation_loss = history.history['val_loss']\n",
    "\n",
    "epoch_count = range(1, len(training_loss) + 1)\n",
    "\n",
    "plt.plot(epoch_count, training_loss, 'r--')\n",
    "plt.plot(epoch_count, validation_loss, 'b-')\n",
    "plt.legend(['Training Loss', 'Validation Loss'])\n",
    "plt.xlabel('Epoch')\n",
    "plt.ylabel('Loss')\n",
    "plt.show();"
   ]
  },
  {
   "cell_type": "markdown",
   "metadata": {},
   "source": [
    "Das CNN wird mit den Testdaten evaluiert und die Confusion Matrix wird erstellt und ausgegeben."
   ]
  },
  {
   "cell_type": "code",
   "execution_count": 6,
   "metadata": {},
   "outputs": [
    {
     "name": "stdout",
     "output_type": "stream",
     "text": [
      "1482/1482 [==============================] - 6s 4ms/sample - loss: 0.1392 - acc: 0.9676\n",
      "Confusion Matrix:\n",
      "[[690  12]\n",
      " [ 36 744]]\n"
     ]
    }
   ],
   "source": [
    "model.evaluate(test_X, test_y, batch_size=32)\n",
    "\n",
    "pred_y = model.predict_classes(test_X, batch_size=32)\n",
    "\n",
    "matrix = confusion_matrix(test_y, pred_y)\n",
    "print(\"Confusion Matrix:\")\n",
    "print(matrix)"
   ]
  },
  {
   "cell_type": "markdown",
   "metadata": {},
   "source": [
    "ROC und AuC werden berechnet und ausgegeben."
   ]
  },
  {
   "cell_type": "code",
   "execution_count": 7,
   "metadata": {},
   "outputs": [
    {
     "name": "stdout",
     "output_type": "stream",
     "text": [
      "ROC:\n"
     ]
    },
    {
     "data": {
      "image/png": "[encoded data removed]",
      "text/plain": [
       "<Figure size 432x288 with 1 Axes>"
      ]
     },
     "metadata": {
      "needs_background": "light"
     },
     "output_type": "display_data"
    },
    {
     "name": "stdout",
     "output_type": "stream",
     "text": [
      "AuC: 0.9917862882606472\n"
     ]
    }
   ],
   "source": [
    "pred_y_proba = model.predict_proba(test_X, batch_size=32)\n",
    "fpr , tpr , thresholds = roc_curve (test_y , pred_y_proba)\n",
    "\n",
    "def plot_roc_curve(fpr,tpr):\n",
    "    plt.plot(fpr, tpr)\n",
    "    plt.axis([0,1,0,1])\n",
    "    plt.xlabel('False Positive Rate')\n",
    "    plt.ylabel('True Positive Rate')\n",
    "    plt.show()\n",
    "    \n",
    "print(\"ROC:\")\n",
    "plot_roc_curve (fpr,tpr)\n",
    "\n",
    "auc = auc_score=roc_auc_score(test_y , pred_y_proba) \n",
    "print (\"AuC:\", auc)"
   ]
  },
  {
   "cell_type": "code",
   "execution_count": null,
   "metadata": {},
   "outputs": [],
   "source": []
  }
 ],
 "metadata": {
  "kernelspec": {
   "display_name": "Python 3",
   "language": "python",
   "name": "python3"
  },
  "language_info": {
   "codemirror_mode": {
    "name": "ipython",
    "version": 3
   },
   "file_extension": ".py",
   "mimetype": "text/x-python",
   "name": "python",
   "nbconvert_exporter": "python",
   "pygments_lexer": "ipython3",
   "version": "3.6.8"
  }
 },
 "nbformat": 4,
 "nbformat_minor": 2
}
