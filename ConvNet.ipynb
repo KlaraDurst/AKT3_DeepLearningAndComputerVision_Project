{
 "cells": [
  {
   "cell_type": "code",
   "execution_count": 21,
   "metadata": {
    "scrolled": true
   },
   "outputs": [
    {
     "name": "stdout",
     "output_type": "stream",
     "text": [
      "Train on 5040 samples, validate on 1260 samples\n",
      "Epoch 1/3\n",
      "5040/5040 [==============================] - 80s 16ms/sample - loss: 0.2590 - acc: 0.8929 - val_loss: 0.1977 - val_acc: 0.9333\n",
      "Epoch 2/3\n",
      "5040/5040 [==============================] - 75s 15ms/sample - loss: 0.2008 - acc: 0.9183 - val_loss: 0.1897 - val_acc: 0.9262\n",
      "Epoch 3/3\n",
      "5040/5040 [==============================] - 77s 15ms/sample - loss: 0.1591 - acc: 0.9381 - val_loss: 0.1513 - val_acc: 0.9476\n"
     ]
    }
   ],
   "source": [
    "import warnings\n",
    "warnings.filterwarnings('ignore')\n",
    "import tensorflow as tf\n",
    "from tensorflow.keras.models import Sequential\n",
    "from tensorflow.keras.layers import Dense, Dropout, Activation, Flatten, Conv2D, MaxPooling2D\n",
    "from tensorflow.keras.callbacks import TensorBoard\n",
    "import pickle\n",
    "import time\n",
    "%matplotlib inline\n",
    "import matplotlib.pyplot as plt\n",
    "from sklearn.metrics import confusion_matrix, roc_curve,roc_auc_score\n",
    "\n",
    "NAME = \"desert-vs-forest-cnn-64x2-{}\".format(int(time.time()))\n",
    "\n",
    "tensorboard = TensorBoard(log_dir='logs\\\\{}'.format(NAME), histogram_freq=1)\n",
    "\n",
    "gpu_options = tf.GPUOptions(per_process_gpu_memory_fraction=0.333)\n",
    "sess = tf.Session(config=tf.ConfigProto(gpu_options=gpu_options))\n",
    "\n",
    "training_X = pickle.load(open(\"NatureX_Training.pickle\", \"rb\"));\n",
    "training_y = pickle.load(open(\"Naturey_Training.pickle\", \"rb\"));\n",
    "\n",
    "training_X = training_X/255.0\n",
    "\n",
    "test_X = pickle.load(open(\"NatureX_Test.pickle\", \"rb\"));\n",
    "test_y = pickle.load(open(\"Naturey_Test.pickle\", \"rb\"));\n",
    "\n",
    "test_X = test_X/255.0\n",
    "\n",
    "model = Sequential()\n",
    "model.add(Conv2D(64, (3,3), input_shape = training_X.shape[1:]))\n",
    "model.add(Activation(\"relu\"))\n",
    "model.add(MaxPooling2D(pool_size=(2,2)))\n",
    "\n",
    "model.add(Conv2D(64, (3,3)))\n",
    "model.add(Activation(\"relu\"))\n",
    "model.add(MaxPooling2D(pool_size=(2,2)))\n",
    "\n",
    "model.add(Flatten()) # converts the 3D feature maps to 1D feature vectors\n",
    "\n",
    "model.add(Dense(64))\n",
    "model.add(Activation(\"relu\"))\n",
    "\n",
    "model.add(Dense(1))\n",
    "model.add(Activation('sigmoid'))\n",
    "\n",
    "model.compile(loss=\"binary_crossentropy\",\n",
    "             optimizer=\"adam\",\n",
    "             metrics=['accuracy'])\n",
    "\n",
    "#%load_ext tensorboard\n",
    "#%tensorboard --logdir=logs\\\\ --host localhost --port 6006\n",
    "\n",
    "history = model.fit(training_X, training_y, batch_size=32, epochs=3, validation_split=0.2) #, callbacks=[tensorboard])"
   ]
  },
  {
   "cell_type": "code",
   "execution_count": 22,
   "metadata": {},
   "outputs": [
    {
     "data": {
      "image/png": "[encoded data removed]",
      "text/plain": [
       "<Figure size 432x288 with 1 Axes>"
      ]
     },
     "metadata": {
      "needs_background": "light"
     },
     "output_type": "display_data"
    },
    {
     "name": "stdout",
     "output_type": "stream",
     "text": [
      "1482/1482 [==============================] - 6s 4ms/sample - loss: 0.1463 - acc: 0.9480\n"
     ]
    },
    {
     "data": {
      "text/plain": [
       "[0.14628274807161004, 0.94804317]"
      ]
     },
     "execution_count": 22,
     "metadata": {},
     "output_type": "execute_result"
    }
   ],
   "source": [
    "# Get training and test loss histories\n",
    "training_loss = history.history['loss']\n",
    "validation_loss = history.history['val_loss']\n",
    "\n",
    "# Create count of the number of epochs\n",
    "epoch_count = range(1, len(training_loss) + 1)\n",
    "\n",
    "# Visualize loss history\n",
    "plt.plot(epoch_count, training_loss, 'r--')\n",
    "plt.plot(epoch_count, validation_loss, 'b-')\n",
    "plt.legend(['Training Loss', 'Test Loss'])\n",
    "plt.xlabel('Epoch')\n",
    "plt.ylabel('Loss')\n",
    "plt.show();\n",
    "\n",
    "model.evaluate(test_X, test_y, batch_size=32)"
   ]
  },
  {
   "cell_type": "code",
   "execution_count": 25,
   "metadata": {},
   "outputs": [
    {
     "name": "stdout",
     "output_type": "stream",
     "text": [
      "[[668  34]\n",
      " [ 43 737]]\n"
     ]
    }
   ],
   "source": [
    "pred_y = model.predict_classes(test_X, batch_size=32)\n",
    "\n",
    "matrix = confusion_matrix(test_y, pred_y)\n",
    "print(matrix)"
   ]
  },
  {
   "cell_type": "code",
   "execution_count": 26,
   "metadata": {},
   "outputs": [
    {
     "data": {
      "image/png": "[encoded data removed]",
      "text/plain": [
       "<Figure size 432x288 with 1 Axes>"
      ]
     },
     "metadata": {
      "needs_background": "light"
     },
     "output_type": "display_data"
    },
    {
     "name": "stdout",
     "output_type": "stream",
     "text": [
      "0.9869219811527503\n"
     ]
    }
   ],
   "source": [
    "pred_y_proba = model.predict_proba(test_X, batch_size=32)\n",
    "fpr , tpr , thresholds = roc_curve (test_y , pred_y_proba)\n",
    "\n",
    "def plot_roc_curve(fpr,tpr):\n",
    "    plt.plot(fpr, tpr)\n",
    "    plt.axis([0,1,0,1])\n",
    "    plt.xlabel('False Positive Rate')\n",
    "    plt.ylabel('True Positive Rate')\n",
    "    plt.show()\n",
    "    \n",
    "plot_roc_curve (fpr,tpr)\n",
    "\n",
    "auc = auc_score=roc_auc_score(test_y , pred_y_proba) \n",
    "print(auc)"
   ]
  },
  {
   "cell_type": "code",
   "execution_count": null,
   "metadata": {},
   "outputs": [],
   "source": []
  }
 ],
 "metadata": {
  "kernelspec": {
   "display_name": "Python 3",
   "language": "python",
   "name": "python3"
  },
  "language_info": {
   "codemirror_mode": {
    "name": "ipython",
    "version": 3
   },
   "file_extension": ".py",
   "mimetype": "text/x-python",
   "name": "python",
   "nbconvert_exporter": "python",
   "pygments_lexer": "ipython3",
   "version": "3.6.8"
  }
 },
 "nbformat": 4,
 "nbformat_minor": 2
}
